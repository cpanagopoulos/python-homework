{
 "cells": [
  {
   "cell_type": "code",
   "execution_count": 1,
   "id": "fe16bc3e-213c-4db8-978e-c7f29e3d338e",
   "metadata": {},
   "outputs": [
    {
     "name": "stdout",
     "output_type": "stream",
     "text": [
      "Hello World!\n"
     ]
    }
   ],
   "source": [
    "# Read-the-Data\n",
    "\n",
    "import pandas as pd\n",
    "from pathlib import Path\n",
    "\n",
    "menu_data = Path(\"../PyRamen/menu_data.csv\")\n",
    "sales_data = Path(\"../PyRamen/sales_data.csv\")\n",
    "\n",
    "\n"
   ]
  },
  {
   "cell_type": "code",
   "execution_count": null,
   "id": "28be5402-e7c4-4e29-9f22-57568f3bbc6b",
   "metadata": {},
   "outputs": [],
   "source": [
    "\n",
    "# Manipulate the Data](#Manipulate-the-Data)\n"
   ]
  },
  {
   "cell_type": "code",
   "execution_count": null,
   "id": "0e7abb91-8f9b-45c3-a81e-eeca5d0fc2c8",
   "metadata": {},
   "outputs": [],
   "source": []
  }
 ],
 "metadata": {
  "kernelspec": {
   "display_name": "Python 3",
   "language": "python",
   "name": "python3"
  },
  "language_info": {
   "codemirror_mode": {
    "name": "ipython",
    "version": 3
   },
   "file_extension": ".py",
   "mimetype": "text/x-python",
   "name": "python",
   "nbconvert_exporter": "python",
   "pygments_lexer": "ipython3",
   "version": "3.8.8"
  }
 },
 "nbformat": 4,
 "nbformat_minor": 5
}
