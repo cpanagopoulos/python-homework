{
 "cells": [
  {
   "cell_type": "code",
   "execution_count": 1,
   "id": "6e433b1d-76ee-4fc3-9f19-5e1073a20d04",
   "metadata": {},
   "outputs": [],
   "source": [
    "import csv\n",
    "from pathlib import Path\n",
    "\n",
    "budget_data = Path(\"Resources/budget_data.csv\")"
   ]
  },
  {
   "cell_type": "code",
   "execution_count": 2,
   "id": "9efb3c80-2a1f-463b-bb82-76c2b9fc3c96",
   "metadata": {},
   "outputs": [],
   "source": [
    "# Initialize list of records\n",
    "\n",
    "total_months = 0\n",
    "month_of_change = []\n",
    "net_change_list = []\n",
    "greatest_increase = [\"\",0]\n",
    "greatest_decrease = [\"\",99999999999999]\n",
    "total_net = 0"
   ]
  },
  {
   "cell_type": "code",
   "execution_count": 3,
   "id": "0cfdde52-d60f-4bf3-8b41-296d51f65441",
   "metadata": {},
   "outputs": [],
   "source": [
    "# Open & Read CSV file.\n",
    "\n",
    "with open(budget_data) as financial_data:\n",
    "    reader = csv.reader(financial_data)\n",
    "    \n",
    "    # Reading from the first row of data\n",
    "\n",
    "    header = next(reader)\n",
    "    \n",
    "    #Initializing variables   \n",
    "    first_row = next(reader)\n",
    "    total_months = total_months + 1\n",
    "    total_net = total_net + int(first_row[1])\n",
    "    previous_net = int(first_row[1])\n",
    "\n",
    "    #The following calculates the required output for budget analysis.\n",
    "    for row in reader:\n",
    "        \n",
    "        # Track the total\n",
    "        total_months = total_months + 1\n",
    "        total_net = total_net + int(row[1])\n",
    "        \n",
    "        # Track the net change\n",
    "        net_change = int(row[1]) - previous_net\n",
    "        previous_net = int(row[1])\n",
    "        net_change_list = net_change_list + [net_change]\n",
    "        month_of_change = month_of_change + [row[0]]\n",
    "                \n",
    "        # Calculate the Greatest Increase in Profits\n",
    "        if net_change > greatest_increase[1]:\n",
    "            greatest_increase[0] = row[0]\n",
    "            greatest_increase[1] = net_change\n",
    "\n",
    "        # Calculate the Greatest Decrease in Losses\n",
    "        if net_change < greatest_decrease[1]:\n",
    "            greatest_decrease[0] = row[0]\n",
    "            greatest_decrease[1] = net_change\n",
    "            \n",
    "# Calculate Average Change in Profit/Losses\n",
    "\n",
    "net_monthly_average = round(sum(net_change_list) / len(net_change_list),2)"
   ]
  },
  {
   "cell_type": "code",
   "execution_count": 4,
   "id": "2375dd98-ddc2-4c20-b4df-27d2c9bfbb4f",
   "metadata": {},
   "outputs": [],
   "source": [
    "# Output Summary Statistics as a text file\n",
    "\n",
    "output_file = \"output.txt\"\n",
    "with open(output_file, \"w\") as txt_file:\n",
    "    txt_file.write(f\"PyBank Budget Analysis: \\n\")\n",
    "    txt_file.write(f\"------------------------\\n\")\n",
    "    txt_file.write(f\"Total Months: {total_months}\\n\")\n",
    "    txt_file.write(f\"Total: ${total_net}\\n\")\n",
    "    txt_file.write(f\"Average Change: ${net_monthly_average}\\n\")\n",
    "    txt_file.write(f\"Greatest Increase in Profits: {greatest_increase[0]} (${greatest_increase[1]})\\n\")\n",
    "    txt_file.write(f\"Greatest Decrease in Losses: {greatest_decrease[0]} (${greatest_decrease[1]})\\n\")"
   ]
  },
  {
   "cell_type": "code",
   "execution_count": 5,
   "id": "1f685f5e-7167-439f-b110-5b9271305109",
   "metadata": {},
   "outputs": [
    {
     "name": "stdout",
     "output_type": "stream",
     "text": [
      "PyBank Budget Analysis \n",
      "\n",
      "------------------------\n",
      "\n",
      "Total Months: 86\n",
      "\n",
      "Total: $38382578\n",
      "\n",
      "Average Change: $-2315.12\n",
      "\n",
      "Greatest Increase in Profits: Feb-2012 ($1926159)\n",
      "\n",
      "Greatest Decrease in Losses: Sep-2013 ($-2196167)\n",
      "\n"
     ]
    }
   ],
   "source": [
    "# Print Analysis\n",
    "\n",
    "print(f\"PyBank Budget Analysis \\n\")\n",
    "print(f\"------------------------\\n\")\n",
    "print(f\"Total Months: {total_months}\\n\")\n",
    "print(f\"Total: ${total_net}\\n\")\n",
    "print(f\"Average Change: ${net_monthly_average}\\n\")\n",
    "print(f\"Greatest Increase in Profits: {greatest_increase[0]} (${greatest_increase[1]})\\n\")\n",
    "print(f\"Greatest Decrease in Losses: {greatest_decrease[0]} (${greatest_decrease[1]})\\n\")"
   ]
  },
  {
   "cell_type": "code",
   "execution_count": null,
   "id": "13bcbabb-8782-4aaa-8e95-d18ac20542eb",
   "metadata": {},
   "outputs": [],
   "source": []
  }
 ],
 "metadata": {
  "kernelspec": {
   "display_name": "Python 3",
   "language": "python",
   "name": "python3"
  },
  "language_info": {
   "codemirror_mode": {
    "name": "ipython",
    "version": 3
   },
   "file_extension": ".py",
   "mimetype": "text/x-python",
   "name": "python",
   "nbconvert_exporter": "python",
   "pygments_lexer": "ipython3",
   "version": "3.8.8"
  },
  "toc-autonumbering": false
 },
 "nbformat": 4,
 "nbformat_minor": 5
}
